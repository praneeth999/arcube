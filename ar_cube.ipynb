{
 "cells": [
  {
   "cell_type": "markdown",
   "metadata": {},
   "source": [
    "## Calibrate camera using video feed of April Tags\n"
   ]
  },
  {
   "cell_type": "code",
   "execution_count": null,
   "metadata": {},
   "outputs": [],
   "source": [
    "\"\"\"\n",
    "Imports\n",
    "\"\"\"\n",
    "import importlib\n",
    "import os\n",
    "import sys\n",
    "\n",
    "import cv2\n",
    "import matplotlib.pyplot as plt\n",
    "import numpy as np\n",
    "import pyAprilTag"
   ]
  },
  {
   "cell_type": "code",
   "execution_count": 7,
   "metadata": {},
   "outputs": [
    {
     "name": "stdout",
     "output_type": "stream",
     "text": [
      "last log: calib_log.AprilCalib_log_00063\n",
      "camera intrinsic matrix: [[644.15348109   0.         317.47593567]\n",
      " [  0.         644.52101185 242.9762921 ]\n",
      " [  0.           0.           1.        ]]\n",
      "camera distortion parameters: [-0.0271262  -0.01459669  0.00078423 -0.00342669  0.        ]\n"
     ]
    }
   ],
   "source": [
    "\"\"\"\n",
    "Calibrate camera using AprilTag markers\n",
    "\"\"\"\n",
    "CUR_DIR = os.getcwd()\n",
    "LOG_DIR = os.path.join(CUR_DIR, \"calib_log\")\n",
    "sys.path.insert(0, CUR_DIR)  # otherwise importlib cannot find the path\n",
    "if (\n",
    "    not os.path.exists(LOG_DIR)\n",
    "    or len([f.endswith(\".png\") for f in os.listdir(LOG_DIR)]) < 2\n",
    "):\n",
    "    os.makedirs(LOG_DIR)\n",
    "    pyAprilTag.calib(\n",
    "        pyAprilTag.calib_pattern_path,\n",
    "        \"camera://{:d}\".format(0),\n",
    "        log_dir=LOG_DIR,\n",
    "        nDistCoeffs=4,\n",
    "    )\n",
    "\n",
    "logs = sorted([f for f in os.listdir(LOG_DIR) if f.endswith(\".py\")])\n",
    "if len(logs) == 0:\n",
    "    print(\"no calibration log available!\")\n",
    "    exit(-1)\n",
    "\n",
    "last_log = os.path.relpath(os.path.join(LOG_DIR, logs[-1])).replace(os.path.sep, \".\")[\n",
    "    :-3\n",
    "]\n",
    "calib = importlib.import_module(last_log)\n",
    "\n",
    "print(f\"last log: {last_log}\")\n",
    "print(f\"camera intrinsic matrix: {calib.K}\")\n",
    "print(f\"camera distortion parameters: {calib.distCoeffs}\")\n"
   ]
  },
  {
   "cell_type": "markdown",
   "metadata": {},
   "source": [
    "## Read the calibration log from task 3 and get camera parameters\n",
    "\n",
    "- K - Camera calibration atrix\n",
    "- distCoeffs - Distortion coefficients "
   ]
  },
  {
   "cell_type": "code",
   "execution_count": 2,
   "metadata": {},
   "outputs": [],
   "source": [
    "def get_calib_from_log():\n",
    "\n",
    "    # define current and calibration lof directories\n",
    "    CUR_DIR = os.getcwd()\n",
    "    LOG_DIR = os.path.join(CUR_DIR, \"calib_log\")\n",
    "    sys.path.insert(0, CUR_DIR)  # otherwise importlib cannot find the path\n",
    "\n",
    "    # read the logs from .py files in calib log folder.\n",
    "    logs = sorted([f for f in os.listdir(LOG_DIR) if f.endswith(\".py\")])\n",
    "\n",
    "    # check if the logs are empty\n",
    "    if len(logs) == 0:\n",
    "        print(\"no calibration log available!\")\n",
    "        exit(-1)\n",
    "\n",
    "    # get the most recent calibration log  \n",
    "    last_log = os.path.relpath(os.path.join(LOG_DIR, logs[-1])).replace(\n",
    "        os.path.sep, \".\"\n",
    "    )[:-3]\n",
    "    \n",
    "    return importlib.import_module(last_log)\n",
    "\n",
    "\n",
    "# get calibration matrix and distortion coefficients\n",
    "K = get_calib_from_log().K\n",
    "distCoeffs = get_calib_from_log().distCoeffs\n"
   ]
  },
  {
   "cell_type": "markdown",
   "metadata": {},
   "source": []
  },
  {
   "cell_type": "code",
   "execution_count": 3,
   "metadata": {},
   "outputs": [],
   "source": [
    "def draw_cube(image, image_points):\n",
    "    \"\"\"\n",
    "    Function to draw a cube given 8 points of a cube on the image.\n",
    "    input:\n",
    "        image - input image\n",
    "        image_points - list of projected 8 points of a cube.\n",
    "    output:\n",
    "        \n",
    "    \"\"\"\n",
    "    image = cv2.line(image, image_points[0], image_points[1], color=(0 ,0, 255), thickness=4)    \n",
    "    image = cv2.line(image, image_points[0], image_points[3], color=(0 ,0, 255), thickness=4)    \n",
    "    image = cv2.line(image, image_points[0], image_points[4], color=(0 ,0, 255), thickness=4)    \n",
    "    image = cv2.line(image, image_points[1], image_points[2], color=(0 ,0, 255), thickness=4)    \n",
    "    image = cv2.line(image, image_points[1], image_points[5], color=(0 ,0, 255), thickness=4)    \n",
    "    image = cv2.line(image, image_points[2], image_points[3], color=(0 ,0, 255), thickness=4)    \n",
    "    image = cv2.line(image, image_points[2], image_points[6], color=(0 ,0, 255), thickness=4)    \n",
    "    image = cv2.line(image, image_points[3], image_points[7], color=(0 ,0, 255), thickness=4)    \n",
    "    image = cv2.line(image, image_points[4], image_points[5], color=(0 ,0, 255), thickness=4)    \n",
    "    image = cv2.line(image, image_points[4], image_points[7], color=(0 ,0, 255), thickness=4)    \n",
    "    image = cv2.line(image, image_points[5], image_points[6], color=(0 ,0, 255), thickness=4)    \n",
    "    image = cv2.line(image, image_points[6], image_points[7], color=(0 ,0, 255), thickness=4)\n",
    "    \n",
    "    return image"
   ]
  },
  {
   "cell_type": "markdown",
   "metadata": {},
   "source": [
    "##  Next we will read two images and find an april tag in them. Each of them contains one april tag.\n",
    "\n",
    "- `image1.jpg` is read as `img1`\n",
    "- `image2.jpg` is read as `img2`\n",
    "- `pyAprilTag.find()` finds the coordinates of the corners and centers, along with the ID and homography  of the april tags.\n",
    "- Corners are of the shape (1,4,2) so we reshape them to (4, 2)\n",
    "- We can discard the homographies, ids and centers as we don't need them."
   ]
  },
  {
   "cell_type": "code",
   "execution_count": 17,
   "metadata": {},
   "outputs": [],
   "source": [
    "img1 = cv2.imread(\"image1.jpg\")\n",
    "img2 = cv2.imread(\"image2.jpg\")\n",
    "\n",
    "# find corners of april tag\n",
    "ids1, corners1, centers1, homographies1 = pyAprilTag.find(img1)\n",
    "ids2, corners2, centers2, homographies2 = pyAprilTag.find(img2)\n",
    "\n",
    "# reeshape to (4,2)\n",
    "corners1 = corners1.reshape(-1, 2)\n",
    "corners2 = corners2.reshape(-1, 2)"
   ]
  },
  {
   "cell_type": "markdown",
   "metadata": {},
   "source": [
    "## Now we will define a cube using 8 points in  the 3D space.\n",
    "\n",
    "The points of the cube that we would be projecting are - $$(1, 1, 1), \\\\(2, 1, 1), \\\\ (2, 2, 1), \\\\ (1, 2, 1), \\\\ (1, 1, 2), \\\\ (2, 1, 2), \\\\ (2, 2, 2), \\\\ (1, 2, 2)$$\n",
    "\n",
    "After this, we will select a cube face to solve a PnP transformation between this face and the plane of the april tag. The points of the cube face we've selected  are\n",
    "$$(1, 1, 1), \\\\(2, 1, 1), \\\\ (2, 2, 1), \\\\ (1, 2, 1)$$\n",
    "\n"
   ]
  },
  {
   "cell_type": "code",
   "execution_count": 18,
   "metadata": {},
   "outputs": [],
   "source": [
    "# define 3d cube points\n",
    "cube_points = np.float32(\n",
    "    [\n",
    "        [1, 1, 1],\n",
    "        [2, 1, 1],\n",
    "        [2, 2, 1],\n",
    "        [1, 2, 1],\n",
    "        [1, 1, 2],\n",
    "        [2, 1, 2],\n",
    "        [2, 2, 2],\n",
    "        [1, 2, 2],\n",
    "    ]\n",
    ")\n",
    "\n",
    "# define cube face\n",
    "cube_face = np.float32([[1, 1, 1], [2, 1, 1], [2, 2, 1], [1, 2, 1]])\n",
    "\n",
    "# solve the perspective n point problem to find the pose of the camera.\n",
    "flags = cv2.SOLVEPNP_ITERATIVE\n",
    "ret1, rvec1, tvec1 = cv2.solvePnP(cube_face, corners1, K, distCoeffs, flags=flags)\n",
    "ret2, rvec2, tvec2 = cv2.solvePnP(cube_face, corners2, K, distCoeffs, flags=flags)"
   ]
  },
  {
   "cell_type": "markdown",
   "metadata": {},
   "source": [
    "## Project the cube on the image"
   ]
  },
  {
   "cell_type": "code",
   "execution_count": 19,
   "metadata": {},
   "outputs": [],
   "source": [
    "cube_img1_points, jac = cv2.projectPoints(cube_points, rvec1, tvec1, K, distCoeffs)\n",
    "cube_img2_points, jac = cv2.projectPoints(cube_points, rvec2, tvec2, K, distCoeffs)"
   ]
  },
  {
   "cell_type": "markdown",
   "metadata": {},
   "source": [
    "## Reshape into (4, 2) vector and round the float values to integer"
   ]
  },
  {
   "cell_type": "code",
   "execution_count": 20,
   "metadata": {},
   "outputs": [],
   "source": [
    "cube_img1_points = cube_img1_points.reshape(-1, 2).round()\n",
    "cube_img2_points = cube_img2_points.reshape(-1, 2).round()"
   ]
  },
  {
   "cell_type": "markdown",
   "metadata": {},
   "source": [
    "## Convert points to tuples so that we can pass it to `cv2.line``"
   ]
  },
  {
   "cell_type": "code",
   "execution_count": 21,
   "metadata": {},
   "outputs": [],
   "source": [
    "cube_img1_points = list(map(tuple, cube_img1_points))\n",
    "cube_img2_points = list(map(tuple, cube_img2_points))"
   ]
  },
  {
   "cell_type": "code",
   "execution_count": 22,
   "metadata": {},
   "outputs": [
    {
     "data": {
      "text/plain": [
       "[(714.0, 514.0),\n",
       " (881.0, 632.0),\n",
       " (1137.0, 383.0),\n",
       " (911.0, 361.0),\n",
       " (555.0, 314.0),\n",
       " (633.0, 320.0),\n",
       " (924.0, 91.0),\n",
       " (746.0, 167.0)]"
      ]
     },
     "execution_count": 22,
     "metadata": {},
     "output_type": "execute_result"
    }
   ],
   "source": [
    "cube_img2_points"
   ]
  },
  {
   "cell_type": "markdown",
   "metadata": {},
   "source": [
    "## Draw the cube on each image"
   ]
  },
  {
   "cell_type": "code",
   "execution_count": 23,
   "metadata": {},
   "outputs": [],
   "source": [
    "img1 = draw_cube(img1, cube_img1_points)\n",
    "img2 = draw_cube(img2, cube_img2_points)"
   ]
  },
  {
   "cell_type": "markdown",
   "metadata": {},
   "source": [
    "## Show and write each output image to disk"
   ]
  },
  {
   "cell_type": "code",
   "execution_count": 25,
   "metadata": {},
   "outputs": [],
   "source": [
    "# show image\n",
    "cv2.imshow(\"IMAGE 1\", img1)\n",
    "cv2.imshow(\"IMAGE 2\", img2)\n",
    "\n",
    "# write image\n",
    "cv2.imwrite(\"image1_cube.jpg\", img1)\n",
    "cv2.imwrite(\"image2_cube.jpg\", img2)\n",
    "\n",
    "# Press any key to destroy windows\n",
    "cv2.waitKey(0)\n",
    "cv2.destroyAllWindows()"
   ]
  },
  {
   "cell_type": "code",
   "execution_count": null,
   "metadata": {},
   "outputs": [],
   "source": [
    "plt.imshow(cv2.cvtColor(img1, cv2.COLOR_BGR2RGB))"
   ]
  },
  {
   "cell_type": "code",
   "execution_count": null,
   "metadata": {},
   "outputs": [],
   "source": [
    "plt.imshow(cv2.cvtColor(img1, cv2.COLOR_BGR2RGB))"
   ]
  }
 ],
 "metadata": {
  "interpreter": {
   "hash": "590bffb8e8b129253d22e19a502235d0a75e512856b8ab5e8c15fd904769601c"
  },
  "kernelspec": {
   "display_name": "Python 3.7.3 64-bit ('hw': conda)",
   "language": "python",
   "name": "python3"
  },
  "language_info": {
   "codemirror_mode": {
    "name": "ipython",
    "version": 3
   },
   "file_extension": ".py",
   "mimetype": "text/x-python",
   "name": "python",
   "nbconvert_exporter": "python",
   "pygments_lexer": "ipython3",
   "version": "3.7.3"
  },
  "orig_nbformat": 4
 },
 "nbformat": 4,
 "nbformat_minor": 2
}
